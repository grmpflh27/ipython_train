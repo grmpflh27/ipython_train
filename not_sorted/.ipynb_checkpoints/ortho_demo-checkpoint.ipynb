{
 "cells": [
  {
   "cell_type": "markdown",
   "metadata": {},
   "source": [
    "#SAR orthorectifier DEMO - June 10th 2016"
   ]
  },
  {
   "cell_type": "code",
   "execution_count": null,
   "metadata": {
    "collapsed": false
   },
   "outputs": [],
   "source": [
    "root_dir = '/Users/tbeyer/gitLab_repos/SAR/sar-gs-testdata/'\n",
    "\n",
    "RELOAD = False"
   ]
  },
  {
   "cell_type": "code",
   "execution_count": null,
   "metadata": {
    "collapsed": false
   },
   "outputs": [],
   "source": [
    "cd $root_dir"
   ]
  },
  {
   "cell_type": "code",
   "execution_count": null,
   "metadata": {
    "collapsed": false
   },
   "outputs": [],
   "source": [
    "if not RELOAD:\n",
    "    import orthorectifier.ortho as this_name_should_be_descriptive_but_it_is_not\n",
    "else:\n",
    "    reload(this_name_should_be_descriptive_but_it_is_not)\n",
    "\n",
    "in_img_path = '/Users/tbeyer/SAR/PALSAR_DATA/Sentinel_Chicago/Chicago_ECS_image_optimized_demirrored.tiff'\n",
    "hdf_path = '/Users/tbeyer/SAR/PALSAR_DATA/Sentinel_Chicago/chicago.hdf5'\n",
    "resampling_method = 'CC'"
   ]
  },
  {
   "cell_type": "markdown",
   "metadata": {},
   "source": [
    "### 1) Instantiate OrthoRectifier"
   ]
  },
  {
   "cell_type": "code",
   "execution_count": null,
   "metadata": {
    "collapsed": false
   },
   "outputs": [],
   "source": [
    "ortho_dude = this_name_should_be_descriptive_but_it_is_not.OrthoRectifier(\n",
    "                            img_file_path=in_img_path,\n",
    "                            hdf5_file_path=hdf_path)"
   ]
  },
  {
   "cell_type": "markdown",
   "metadata": {},
   "source": [
    "### 2) create GT table"
   ]
  },
  {
   "cell_type": "code",
   "execution_count": null,
   "metadata": {
    "collapsed": false
   },
   "outputs": [],
   "source": [
    "ortho_dude.create_GT_table_from_corners()"
   ]
  },
  {
   "cell_type": "markdown",
   "metadata": {},
   "source": [
    "### 3) resample using in-house C resampler (cubic convolution) - thanks to the optifus team"
   ]
  },
  {
   "cell_type": "code",
   "execution_count": null,
   "metadata": {
    "collapsed": false
   },
   "outputs": [],
   "source": [
    "ortho_dude.resample(resampling_method=resampling_method)"
   ]
  },
  {
   "cell_type": "markdown",
   "metadata": {},
   "source": [
    "### 4) export as geotiff"
   ]
  },
  {
   "cell_type": "code",
   "execution_count": null,
   "metadata": {
    "collapsed": false
   },
   "outputs": [],
   "source": [
    "ortho_dude.export(data=ortho_dude.ortho_data,\n",
    "                  img_path=in_img_path)"
   ]
  },
  {
   "cell_type": "markdown",
   "metadata": {
    "collapsed": true
   },
   "source": [
    "## display output\n",
    "\n",
    "Since embedding **tiffs** in a IPython notebook is a bit painful, I prepped some screenshots covering the following:\n",
    "\n",
    "* full take using NN (nearest neighbor)\n",
    "* full take using CC (cubic convolution)\n",
    "* small chip NN\n",
    "* small chip CC"
   ]
  },
  {
   "cell_type": "code",
   "execution_count": null,
   "metadata": {
    "collapsed": true
   },
   "outputs": [],
   "source": [
    "import os\n",
    "from IPython.display import Image\n",
    "\n",
    "screen_dir = '/Users/tbeyer/SAR/PALSAR_DATA/Sentinel_Chicago/ipynb'\n",
    "\n",
    "full_NN = os.path.join(screen_dir, 'chicago_NN.png')\n",
    "full_CC = os.path.join(screen_dir, 'chicago_CC.png')\n",
    "chip_NN = os.path.join(screen_dir, 'chicago_chip_NN.png')\n",
    "chip_CC = os.path.join(screen_dir, 'chicago_chip_CC.png')"
   ]
  },
  {
   "cell_type": "markdown",
   "metadata": {
    "collapsed": false
   },
   "source": [
    "### full take using NN (nearest neighbor)"
   ]
  },
  {
   "cell_type": "code",
   "execution_count": null,
   "metadata": {
    "collapsed": false
   },
   "outputs": [],
   "source": [
    "Image(filename=full_NN)"
   ]
  },
  {
   "cell_type": "markdown",
   "metadata": {},
   "source": [
    "### full take using CC (cubic convolution)"
   ]
  },
  {
   "cell_type": "code",
   "execution_count": null,
   "metadata": {
    "collapsed": false
   },
   "outputs": [],
   "source": [
    "Image(filename=full_CC)"
   ]
  },
  {
   "cell_type": "markdown",
   "metadata": {},
   "source": [
    "### small chip NN"
   ]
  },
  {
   "cell_type": "code",
   "execution_count": null,
   "metadata": {
    "collapsed": false
   },
   "outputs": [],
   "source": [
    "Image(filename=chip_NN)"
   ]
  },
  {
   "cell_type": "markdown",
   "metadata": {},
   "source": [
    "### small chip CC"
   ]
  },
  {
   "cell_type": "code",
   "execution_count": null,
   "metadata": {
    "collapsed": false
   },
   "outputs": [],
   "source": [
    "Image(filename=chip_CC)"
   ]
  },
  {
   "cell_type": "markdown",
   "metadata": {},
   "source": [
    "\n",
    "### success ??"
   ]
  },
  {
   "cell_type": "code",
   "execution_count": null,
   "metadata": {
    "collapsed": false
   },
   "outputs": [],
   "source": [
    "from IPython.display import YouTubeVideo\n",
    "\n",
    "YouTubeVideo(id='XHcCbY2wY38', width=800, height=600, start=175, autoplay=True)"
   ]
  }
 ],
 "metadata": {
  "kernelspec": {
   "display_name": "Python 2",
   "language": "python",
   "name": "python2"
  },
  "language_info": {
   "codemirror_mode": {
    "name": "ipython",
    "version": 2
   },
   "file_extension": ".py",
   "mimetype": "text/x-python",
   "name": "python",
   "nbconvert_exporter": "python",
   "pygments_lexer": "ipython2",
   "version": "2.7.9"
  }
 },
 "nbformat": 4,
 "nbformat_minor": 0
}
