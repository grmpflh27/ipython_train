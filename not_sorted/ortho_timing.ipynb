{
 "cells": [
  {
   "cell_type": "code",
   "execution_count": 31,
   "metadata": {
    "collapsed": true
   },
   "outputs": [],
   "source": [
    "%matplotlib inline"
   ]
  },
  {
   "cell_type": "code",
   "execution_count": 3,
   "metadata": {
    "collapsed": false
   },
   "outputs": [],
   "source": [
    "import json\n",
    "\n",
    "timing_json = '/Users/tbeyer/SAR/PALSAR_DATA/Sentinel_Chicago/Chicago_ECS_image_optimized_demirrored_timing_results.json'\n",
    "\n",
    "with open(timing_json) as p:\n",
    "    time_data = json.load(p)"
   ]
  },
  {
   "cell_type": "code",
   "execution_count": 19,
   "metadata": {
    "collapsed": false
   },
   "outputs": [],
   "source": [
    "#get newest set\n",
    "from datetime import datetime\n",
    "\n",
    "timestamps = [t.keys()[0] for t in time_data[\"timing\"]]\n",
    "\n",
    "\n",
    "timestamps_date = [datetime.strptime(t, \"%Y-%m-%d %H:%M:%S.%f\") for t in timestamps]"
   ]
  },
  {
   "cell_type": "code",
   "execution_count": 30,
   "metadata": {
    "collapsed": false
   },
   "outputs": [
    {
     "data": {
      "text/plain": [
       "array([[ 5000.    ,     7.6253],\n",
       "       [ 2000.    ,     9.3487],\n",
       "       [ 1000.    ,    12.8508],\n",
       "       [  750.    ,    11.1625],\n",
       "       [  500.    ,    15.1614],\n",
       "       [  250.    ,    25.5412],\n",
       "       [  150.    ,    43.7579],\n",
       "       [  100.    ,    92.4144],\n",
       "       [   75.    ,   148.5821],\n",
       "       [   50.    ,   318.0919],\n",
       "       [   25.    ,  1208.9768]])"
      ]
     },
     "execution_count": 30,
     "metadata": {},
     "output_type": "execute_result"
    }
   ],
   "source": [
    "newest_timing = time_data[\"timing\"][np.argmax(timestamps_date)].values()\n",
    "\n",
    "newest_timing = np.array(newest_timing).squeeze()\n",
    "newest_timing"
   ]
  },
  {
   "cell_type": "code",
   "execution_count": 62,
   "metadata": {
    "collapsed": false
   },
   "outputs": [
    {
     "data": {
      "text/plain": [
       "<matplotlib.text.Text at 0x10ecb0c10>"
      ]
     },
     "execution_count": 62,
     "metadata": {},
     "output_type": "execute_result"
    },
    {
     "data": {
      "image/png": "[encoded data removed]",
      "text/plain": [
       "<matplotlib.figure.Figure at 0x10ecccf90>"
      ]
     },
     "metadata": {},
     "output_type": "display_data"
    }
   ],
   "source": [
    "plt.figure(figsize=(10,10))\n",
    "\n",
    "ax = plt.axes()\n",
    "\n",
    "\n",
    "plt.plot(newest_timing[:, 0], newest_timing[:,1], '*')\n",
    "\n",
    "plt.xticks(newest_timing[:, 0])\n",
    "plt.yticks(newest_timing[:, 1])\n",
    "plt.grid()\n",
    "plt.ylabel('runtime [sec]')\n",
    "plt.xlabel('sparse spacing [pixel]')\n",
    "#ax.set_yscale('log')\n",
    "#ax.set_xscale('log')"
   ]
  },
  {
   "cell_type": "code",
   "execution_count": null,
   "metadata": {
    "collapsed": true
   },
   "outputs": [],
   "source": []
  }
 ],
 "metadata": {
  "kernelspec": {
   "display_name": "Python 2",
   "language": "python",
   "name": "python2"
  },
  "language_info": {
   "codemirror_mode": {
    "name": "ipython",
    "version": 2
   },
   "file_extension": ".py",
   "mimetype": "text/x-python",
   "name": "python",
   "nbconvert_exporter": "python",
   "pygments_lexer": "ipython2",
   "version": "2.7.9"
  }
 },
 "nbformat": 4,
 "nbformat_minor": 0
}
