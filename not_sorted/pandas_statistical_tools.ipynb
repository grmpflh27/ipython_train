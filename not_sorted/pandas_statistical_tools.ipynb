{
 "cells": [
  {
   "cell_type": "code",
   "execution_count": 2,
   "metadata": {
    "collapsed": true
   },
   "outputs": [],
   "source": [
    "import pandas as pd\n",
    "import numpy as np"
   ]
  },
  {
   "cell_type": "code",
   "execution_count": 6,
   "metadata": {
    "collapsed": false
   },
   "outputs": [
    {
     "data": {
      "text/plain": [
       "0         NaN\n",
       "1    2.075202\n",
       "2   -1.464125\n",
       "3   -0.528050\n",
       "4    1.801650\n",
       "5   -3.996172\n",
       "6   -0.374089\n",
       "7   -1.368996\n",
       "dtype: float64"
      ]
     },
     "execution_count": 6,
     "metadata": {},
     "output_type": "execute_result"
    }
   ],
   "source": [
    "ser = pd.Series(np.random.randn(8))\n",
    "\n",
    "#compute the percent change over a given number of periods\n",
    "ser.pct_change()"
   ]
  },
  {
   "cell_type": "code",
   "execution_count": 11,
   "metadata": {
    "collapsed": false
   },
   "outputs": [
    {
     "data": {
      "text/html": [
       "<div>\n",
       "<table border=\"1\" class=\"dataframe\">\n",
       "  <thead>\n",
       "    <tr style=\"text-align: right;\">\n",
       "      <th></th>\n",
       "      <th>0</th>\n",
       "      <th>1</th>\n",
       "      <th>2</th>\n",
       "      <th>3</th>\n",
       "      <th>4</th>\n",
       "    </tr>\n",
       "  </thead>\n",
       "  <tbody>\n",
       "    <tr>\n",
       "      <th>0</th>\n",
       "      <td>NaN</td>\n",
       "      <td>NaN</td>\n",
       "      <td>NaN</td>\n",
       "      <td>NaN</td>\n",
       "      <td>NaN</td>\n",
       "    </tr>\n",
       "    <tr>\n",
       "      <th>1</th>\n",
       "      <td>NaN</td>\n",
       "      <td>NaN</td>\n",
       "      <td>NaN</td>\n",
       "      <td>NaN</td>\n",
       "      <td>NaN</td>\n",
       "    </tr>\n",
       "    <tr>\n",
       "      <th>2</th>\n",
       "      <td>NaN</td>\n",
       "      <td>NaN</td>\n",
       "      <td>NaN</td>\n",
       "      <td>NaN</td>\n",
       "      <td>NaN</td>\n",
       "    </tr>\n",
       "    <tr>\n",
       "      <th>3</th>\n",
       "      <td>-0.112738</td>\n",
       "      <td>0.741785</td>\n",
       "      <td>0.026890</td>\n",
       "      <td>-8.969682</td>\n",
       "      <td>517.205084</td>\n",
       "    </tr>\n",
       "    <tr>\n",
       "      <th>4</th>\n",
       "      <td>-0.262861</td>\n",
       "      <td>1.242528</td>\n",
       "      <td>0.349849</td>\n",
       "      <td>-2.271345</td>\n",
       "      <td>-1.776673</td>\n",
       "    </tr>\n",
       "    <tr>\n",
       "      <th>5</th>\n",
       "      <td>0.583655</td>\n",
       "      <td>-0.680398</td>\n",
       "      <td>-3.375093</td>\n",
       "      <td>-5.136743</td>\n",
       "      <td>-2.265548</td>\n",
       "    </tr>\n",
       "    <tr>\n",
       "      <th>6</th>\n",
       "      <td>-0.377211</td>\n",
       "      <td>-1.107474</td>\n",
       "      <td>3.820630</td>\n",
       "      <td>-0.910617</td>\n",
       "      <td>0.164782</td>\n",
       "    </tr>\n",
       "    <tr>\n",
       "      <th>7</th>\n",
       "      <td>-0.260586</td>\n",
       "      <td>-0.345185</td>\n",
       "      <td>1.952904</td>\n",
       "      <td>-2.834367</td>\n",
       "      <td>-0.479538</td>\n",
       "    </tr>\n",
       "    <tr>\n",
       "      <th>8</th>\n",
       "      <td>-0.423634</td>\n",
       "      <td>-2.028228</td>\n",
       "      <td>-0.317629</td>\n",
       "      <td>-0.243193</td>\n",
       "      <td>-2.906438</td>\n",
       "    </tr>\n",
       "    <tr>\n",
       "      <th>9</th>\n",
       "      <td>-2.056003</td>\n",
       "      <td>-0.756088</td>\n",
       "      <td>-0.987787</td>\n",
       "      <td>0.891745</td>\n",
       "      <td>-1.342752</td>\n",
       "    </tr>\n",
       "  </tbody>\n",
       "</table>\n",
       "</div>"
      ],
      "text/plain": [
       "          0         1         2         3           4\n",
       "0       NaN       NaN       NaN       NaN         NaN\n",
       "1       NaN       NaN       NaN       NaN         NaN\n",
       "2       NaN       NaN       NaN       NaN         NaN\n",
       "3 -0.112738  0.741785  0.026890 -8.969682  517.205084\n",
       "4 -0.262861  1.242528  0.349849 -2.271345   -1.776673\n",
       "5  0.583655 -0.680398 -3.375093 -5.136743   -2.265548\n",
       "6 -0.377211 -1.107474  3.820630 -0.910617    0.164782\n",
       "7 -0.260586 -0.345185  1.952904 -2.834367   -0.479538\n",
       "8 -0.423634 -2.028228 -0.317629 -0.243193   -2.906438\n",
       "9 -2.056003 -0.756088 -0.987787  0.891745   -1.342752"
      ]
     },
     "execution_count": 11,
     "metadata": {},
     "output_type": "execute_result"
    }
   ],
   "source": [
    "df = pd.DataFrame(np.random.randn(10,5))\n",
    "df.pct_change(periods=3)"
   ]
  },
  {
   "cell_type": "code",
   "execution_count": 16,
   "metadata": {
    "collapsed": false
   },
   "outputs": [
    {
     "data": {
      "text/plain": [
       "-0.044378862226067246"
      ]
     },
     "execution_count": 16,
     "metadata": {},
     "output_type": "execute_result"
    }
   ],
   "source": [
    "#compute covariance between series\n",
    "\n",
    "s1 = pd.Series(np.random.randn(100))\n",
    "s2 = pd.Series(np.random.randn(90))\n",
    "\n",
    "s1.cov(s2)"
   ]
  },
  {
   "cell_type": "code",
   "execution_count": 27,
   "metadata": {
    "collapsed": false
   },
   "outputs": [
    {
     "data": {
      "text/html": [
       "<div>\n",
       "<table border=\"1\" class=\"dataframe\">\n",
       "  <thead>\n",
       "    <tr style=\"text-align: right;\">\n",
       "      <th></th>\n",
       "      <th>A</th>\n",
       "      <th>B</th>\n",
       "      <th>C</th>\n",
       "      <th>D</th>\n",
       "      <th>E</th>\n",
       "    </tr>\n",
       "  </thead>\n",
       "  <tbody>\n",
       "    <tr>\n",
       "      <th>A</th>\n",
       "      <td>0.851800</td>\n",
       "      <td>-0.000906</td>\n",
       "      <td>-0.019633</td>\n",
       "      <td>-0.000424</td>\n",
       "      <td>-0.018632</td>\n",
       "    </tr>\n",
       "    <tr>\n",
       "      <th>B</th>\n",
       "      <td>-0.000906</td>\n",
       "      <td>0.990547</td>\n",
       "      <td>-0.018968</td>\n",
       "      <td>0.020912</td>\n",
       "      <td>-0.051043</td>\n",
       "    </tr>\n",
       "    <tr>\n",
       "      <th>C</th>\n",
       "      <td>-0.019633</td>\n",
       "      <td>-0.018968</td>\n",
       "      <td>0.962061</td>\n",
       "      <td>0.029978</td>\n",
       "      <td>-0.012144</td>\n",
       "    </tr>\n",
       "    <tr>\n",
       "      <th>D</th>\n",
       "      <td>-0.000424</td>\n",
       "      <td>0.020912</td>\n",
       "      <td>0.029978</td>\n",
       "      <td>1.001339</td>\n",
       "      <td>-0.043530</td>\n",
       "    </tr>\n",
       "    <tr>\n",
       "      <th>E</th>\n",
       "      <td>-0.018632</td>\n",
       "      <td>-0.051043</td>\n",
       "      <td>-0.012144</td>\n",
       "      <td>-0.043530</td>\n",
       "      <td>0.979676</td>\n",
       "    </tr>\n",
       "  </tbody>\n",
       "</table>\n",
       "</div>"
      ],
      "text/plain": [
       "          A         B         C         D         E\n",
       "A  0.851800 -0.000906 -0.019633 -0.000424 -0.018632\n",
       "B -0.000906  0.990547 -0.018968  0.020912 -0.051043\n",
       "C -0.019633 -0.018968  0.962061  0.029978 -0.012144\n",
       "D -0.000424  0.020912  0.029978  1.001339 -0.043530\n",
       "E -0.018632 -0.051043 -0.012144 -0.043530  0.979676"
      ]
     },
     "execution_count": 27,
     "metadata": {},
     "output_type": "execute_result"
    }
   ],
   "source": [
    "frame = pd.DataFrame(np.random.randn(1000, 5), columns = [chr(i) for i in np.arange(65, 70)])\n",
    "\n",
    "frame.cov()"
   ]
  },
  {
   "cell_type": "code",
   "execution_count": 28,
   "metadata": {
    "collapsed": false
   },
   "outputs": [
    {
     "data": {
      "text/plain": [
       "-0.00098605098273956901"
      ]
     },
     "execution_count": 28,
     "metadata": {},
     "output_type": "execute_result"
    }
   ],
   "source": [
    "#correlation coeff.\n",
    "frame['A'].corr(frame['B']) #pearson"
   ]
  },
  {
   "cell_type": "code",
   "execution_count": 34,
   "metadata": {
    "collapsed": false
   },
   "outputs": [
    {
     "data": {
      "text/html": [
       "<div>\n",
       "<table border=\"1\" class=\"dataframe\">\n",
       "  <thead>\n",
       "    <tr style=\"text-align: right;\">\n",
       "      <th></th>\n",
       "      <th>A</th>\n",
       "      <th>B</th>\n",
       "      <th>C</th>\n",
       "      <th>D</th>\n",
       "      <th>E</th>\n",
       "    </tr>\n",
       "  </thead>\n",
       "  <tbody>\n",
       "    <tr>\n",
       "      <th>A</th>\n",
       "      <td>1.000000</td>\n",
       "      <td>-0.000986</td>\n",
       "      <td>-0.021688</td>\n",
       "      <td>-0.000460</td>\n",
       "      <td>-0.020397</td>\n",
       "    </tr>\n",
       "    <tr>\n",
       "      <th>B</th>\n",
       "      <td>-0.000986</td>\n",
       "      <td>1.000000</td>\n",
       "      <td>-0.019430</td>\n",
       "      <td>0.020997</td>\n",
       "      <td>-0.051815</td>\n",
       "    </tr>\n",
       "    <tr>\n",
       "      <th>C</th>\n",
       "      <td>-0.021688</td>\n",
       "      <td>-0.019430</td>\n",
       "      <td>1.000000</td>\n",
       "      <td>0.030543</td>\n",
       "      <td>-0.012509</td>\n",
       "    </tr>\n",
       "    <tr>\n",
       "      <th>D</th>\n",
       "      <td>-0.000460</td>\n",
       "      <td>0.020997</td>\n",
       "      <td>0.030543</td>\n",
       "      <td>1.000000</td>\n",
       "      <td>-0.043950</td>\n",
       "    </tr>\n",
       "    <tr>\n",
       "      <th>E</th>\n",
       "      <td>-0.020397</td>\n",
       "      <td>-0.051815</td>\n",
       "      <td>-0.012509</td>\n",
       "      <td>-0.043950</td>\n",
       "      <td>1.000000</td>\n",
       "    </tr>\n",
       "  </tbody>\n",
       "</table>\n",
       "</div>"
      ],
      "text/plain": [
       "          A         B         C         D         E\n",
       "A  1.000000 -0.000986 -0.021688 -0.000460 -0.020397\n",
       "B -0.000986  1.000000 -0.019430  0.020997 -0.051815\n",
       "C -0.021688 -0.019430  1.000000  0.030543 -0.012509\n",
       "D -0.000460  0.020997  0.030543  1.000000 -0.043950\n",
       "E -0.020397 -0.051815 -0.012509 -0.043950  1.000000"
      ]
     },
     "execution_count": 34,
     "metadata": {},
     "output_type": "execute_result"
    }
   ],
   "source": [
    "frame.corr()\n",
    "\n",
    "#non-numeric columns will be automatically excluded from the correlation calculation"
   ]
  },
  {
   "cell_type": "code",
   "execution_count": null,
   "metadata": {
    "collapsed": true
   },
   "outputs": [],
   "source": [
    "# corrwith is implemented on DataFrame to compute the correlation between like-labeled \n",
    "# Series contained in different DataFrame objects\n",
    "\n",
    "\n"
   ]
  }
 ],
 "metadata": {
  "kernelspec": {
   "display_name": "Python 2",
   "language": "python",
   "name": "python2"
  },
  "language_info": {
   "codemirror_mode": {
    "name": "ipython",
    "version": 2
   },
   "file_extension": ".py",
   "mimetype": "text/x-python",
   "name": "python",
   "nbconvert_exporter": "python",
   "pygments_lexer": "ipython2",
   "version": "2.7.9"
  }
 },
 "nbformat": 4,
 "nbformat_minor": 0
}
