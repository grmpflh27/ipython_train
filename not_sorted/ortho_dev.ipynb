{
 "cells": [
  {
   "cell_type": "code",
   "execution_count": 6,
   "metadata": {
    "collapsed": true,
    "scrolled": true
   },
   "outputs": [],
   "source": [
    "root_dir = '/Users/tbeyer/gitLab_repos/SAR/sar-gs-testdata/'\n",
    "in_img_path = '/Users/tbeyer/SAR/PALSAR_DATA/Sentinel_Chicago/Chicago_ECS_image_optimized_demirrored.tiff'\n",
    "hdf_path = '/Users/tbeyer/SAR/PALSAR_DATA/Sentinel_Chicago/chicago.hdf5'\n",
    "\n",
    "%matplotlib inline"
   ]
  },
  {
   "cell_type": "code",
   "execution_count": 7,
   "metadata": {
    "collapsed": false
   },
   "outputs": [
    {
     "name": "stdout",
     "output_type": "stream",
     "text": [
      "/Users/tbeyer/gitLab_repos/SAR/sar-gs-testdata\n"
     ]
    }
   ],
   "source": [
    "cd $root_dir"
   ]
  },
  {
   "cell_type": "code",
   "execution_count": 8,
   "metadata": {
    "collapsed": false
   },
   "outputs": [],
   "source": [
    "from geolocation.geolocation import Geolocator\n",
    "\n",
    "geo_friend = Geolocator(sar_data_file_path=hdf_path, \n",
    "                       image_file_path=in_img_path\n",
    "            )"
   ]
  },
  {
   "cell_type": "code",
   "execution_count": 9,
   "metadata": {
    "collapsed": false
   },
   "outputs": [],
   "source": [
    "def xyz():\n",
    "    #order ul, ll, lr, ur\n",
    "    corner_line = [0, 0, geo_friend.image_pixels, geo_friend.image_pixels]\n",
    "    corner_pix = [0, geo_friend.image_lines, geo_friend.image_lines, 0]\n",
    "\n",
    "    corner_lat_lon = np.array(map(lambda line_pix: geo_friend.convert_line_pixel_to_lat_lon_height(line_pix[0], line_pix[1]), zip(corner_line, corner_pix)))\n",
    "    #corner_lat_lon"
   ]
  },
  {
   "cell_type": "code",
   "execution_count": 10,
   "metadata": {
    "collapsed": false
   },
   "outputs": [
    {
     "name": "stdout",
     "output_type": "stream",
     "text": [
      "The slowest run took 11.26 times longer than the fastest. This could mean that an intermediate result is being cached \n",
      "100 loops, best of 3: 3.36 ms per loop\n"
     ]
    }
   ],
   "source": [
    "%timeit xyz()"
   ]
  },
  {
   "cell_type": "code",
   "execution_count": 27,
   "metadata": {
    "collapsed": false,
    "scrolled": true
   },
   "outputs": [
    {
     "data": {
      "image/png": "[encoded data removed]",
      "text/plain": [
       "<matplotlib.figure.Figure at 0x10ebbf410>"
      ]
     },
     "metadata": {},
     "output_type": "display_data"
    }
   ],
   "source": [
    "min_lat, min_lon = np.min(corner_lat_lon[:, 0]), np.min(corner_lat_lon[:, 1])\n",
    "max_lat, max_lon = np.max(corner_lat_lon[:, 0]), np.max(corner_lat_lon[:, 1])\n",
    "\n",
    "rect_sides = ([min_lon, max_lon, max_lon, min_lon, min_lon], [min_lat, min_lat, max_lat, max_lat, min_lat])\n",
    "\n",
    "fig = plt.figure(figsize=(7, 7))\n",
    "plt.plot(corner_lat_lon[:, 1], corner_lat_lon[:, 0], '*', *rect_sides)\n",
    "plt.axis('equal')\n",
    "plt.show()"
   ]
  },
  {
   "cell_type": "code",
   "execution_count": 28,
   "metadata": {
    "collapsed": false,
    "scrolled": true
   },
   "outputs": [
    {
     "data": {
      "image/png": "[encoded data removed]",
      "text/plain": [
       "<matplotlib.figure.Figure at 0x10ee57d50>"
      ]
     },
     "metadata": {},
     "output_type": "display_data"
    }
   ],
   "source": [
    "corner_sides = ([corner_lat_lon[0,1], corner_lat_lon[1,1], corner_lat_lon[2,1], corner_lat_lon[3,1], corner_lat_lon[0,1]], \n",
    "                [corner_lat_lon[0,0], corner_lat_lon[1,0], corner_lat_lon[2,0], corner_lat_lon[3,0], corner_lat_lon[0,0]])\n",
    "                                                                                         \n",
    "fig = plt.figure(figsize=(7, 7))\n",
    "plt.plot(*corner_sides)\n",
    "plt.plot(*rect_sides)\n",
    "plt.axis('equal')\n",
    "plt.show()"
   ]
  }
 ],
 "metadata": {
  "kernelspec": {
   "display_name": "Python 2",
   "language": "python",
   "name": "python2"
  },
  "language_info": {
   "codemirror_mode": {
    "name": "ipython",
    "version": 2
   },
   "file_extension": ".py",
   "mimetype": "text/x-python",
   "name": "python",
   "nbconvert_exporter": "python",
   "pygments_lexer": "ipython2",
   "version": "2.7.9"
  }
 },
 "nbformat": 4,
 "nbformat_minor": 0
}
