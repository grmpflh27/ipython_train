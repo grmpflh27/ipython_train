{
 "cells": [
  {
   "cell_type": "code",
   "execution_count": 11,
   "metadata": {
    "collapsed": true
   },
   "outputs": [],
   "source": [
    "import scipy as sc\n",
    "import matplotlib.pyplot as plt\n",
    "import numpy as np\n",
    "\n",
    "%matplotlib inline"
   ]
  },
  {
   "cell_type": "markdown",
   "metadata": {},
   "source": [
    "## Overview of SciPy\n",
    "\n",
    "SciPy is an extensive library for applied mathematics and scientific computation. \n",
    "The following is the complete list of all the modules available in the library:\n",
    "\n",
    "<html>\n",
    "<body>\n",
    "<table align=left>\n",
    "<tr>\n",
    "    <th>Module</th>\n",
    "    <th>Functionality</th>\n",
    "</tr>\n",
    "<tr>\n",
    "    <td>cluster</td>\n",
    "    <td>Clustering algorithms</td>\n",
    "</tr>\n",
    "<tr>\n",
    "    <td>constants</td>\n",
    "    <td>Physical and mathematical constants</td>\n",
    "</tr>\n",
    "<tr>\n",
    "    <td>fftpack</td>\n",
    "    <td>Fast Fourier Transform</td>\n",
    "</tr>\n",
    "<tr>\n",
    "    <td>integrate</td>\n",
    "    <td>Integration and ordinary differential equations</td>\n",
    "</tr>\n",
    "<tr>\n",
    "    <td>interpolate</td>\n",
    "    <td>Interpolation and splines</td>\n",
    "</tr>\n",
    "<tr>\n",
    "    <td>io</td>\n",
    "    <td>Input and output</td>\n",
    "</tr>\n",
    "<tr>\n",
    "    <td>linalg</td>\n",
    "    <td>Linear algebra</td>\n",
    "</tr>\n",
    "<tr>\n",
    "    <td>ndimage</td>\n",
    "    <td>Image processing</td>\n",
    "</tr>\n",
    "<tr>\n",
    "    <td>odr</td>\n",
    "    <td>Orthogonal distance regression</td>\n",
    "</tr>\n",
    "<tr>\n",
    "    <td>optimize</td>\n",
    "    <td>Optimization and root-finding </td>\n",
    "</tr>\n",
    "<tr>\n",
    "    <td>signal</td>\n",
    "    <td>Signal processing</td>\n",
    "</tr>\n",
    "<tr>\n",
    "    <td>sparse</td>\n",
    "    <td>Sparse matrices</td>\n",
    "</tr>\n",
    "<tr>\n",
    "    <td>spatial</td>\n",
    "    <td>Spatial data structures</td>\n",
    "</tr>\n",
    " <tr>\n",
    "    <td>special</td>\n",
    "    <td>Special functions</td>\n",
    "</tr>\n",
    "<tr>\n",
    "    <td>stats</td>\n",
    "    <td>Statistical distributions</td>\n",
    "</tr>\n",
    "<tr>\n",
    "    <td>weave</td>\n",
    "    <td>C/C++ integration</td>\n",
    "</tr>\n",
    "</table>\n",
    "</body>\n",
    "</html>"
   ]
  },
  {
   "cell_type": "markdown",
   "metadata": {},
   "source": [
    "###  function factory pattern of supply and demand\n",
    "\n",
    "$supply(q) = \\frac{K}{1 + L * q}$\n",
    "\n",
    "$demand(q) = \\frac{Aq}{C - Bq}$"
   ]
  },
  {
   "cell_type": "code",
   "execution_count": 9,
   "metadata": {
    "collapsed": false
   },
   "outputs": [],
   "source": [
    "def make_supply(A, B, C):\n",
    "    def supply_func(q):\n",
    "        return A * q / (C - B * q)\n",
    "    return supply_func\n",
    "\n",
    "def make_demand(K, L):\n",
    "    def demand_func(q):\n",
    "        return K / (1 + L * q)\n",
    "    return demand_func"
   ]
  },
  {
   "cell_type": "code",
   "execution_count": 10,
   "metadata": {
    "collapsed": true
   },
   "outputs": [],
   "source": [
    "# set params and evaluate supply and demand curves\n",
    "A, B, C = 23.3, 9.2, 82.4\n",
    "K, L = 1.2, 0.54\n",
    "supply = make_supply(A, B, C)\n",
    "demand = make_demand(K, L)"
   ]
  },
  {
   "cell_type": "code",
   "execution_count": 20,
   "metadata": {
    "collapsed": false
   },
   "outputs": [
    {
     "data": {
      "text/plain": [
       "<matplotlib.legend.Legend at 0x8418240>"
      ]
     },
     "execution_count": 20,
     "metadata": {},
     "output_type": "execute_result"
    },
    {
     "data": {
      "image/png": "[encoded data removed]",
      "text/plain": [
       "<matplotlib.figure.Figure at 0x806d320>"
      ]
     },
     "metadata": {},
     "output_type": "display_data"
    }
   ],
   "source": [
    "# plotting\n",
    "q = np.linspace(0.01,5,200)\n",
    "\n",
    "plt.figure(figsize=(10,5))\n",
    "plt.plot(q, supply(q), lw = 3)\n",
    "plt.plot(q, demand(q), lw = 3)\n",
    "plt.title('Supply and demand curves')\n",
    "plt.xlabel('Quantity (thousands of units)')\n",
    "plt.ylabel('Price ($)')\n",
    "plt.legend(['Supply', 'Demand'], loc='upper left')"
   ]
  },
  {
   "cell_type": "markdown",
   "metadata": {},
   "source": [
    "To find the equilibrium, we use the *optimize* module, which, besides \n",
    "providing functions for optimization, also has functions to solve numerical \n",
    "equations. The recommended function to find solutions for one-variable functions \n",
    "is *brentq()*.\n",
    "\n",
    "The *brentq()* function assumes that the right-hand side of the equation we want \n",
    "to solve is 0."
   ]
  },
  {
   "cell_type": "code",
   "execution_count": 26,
   "metadata": {
    "collapsed": false
   },
   "outputs": [
    {
     "name": "stdout",
     "output_type": "stream",
     "text": [
      "1.75322153719 0.616415252177 0.616415252177\n"
     ]
    }
   ],
   "source": [
    "from scipy import optimize\n",
    "def opt_func(q):\n",
    "    return supply(q) - demand(q)\n",
    "\n",
    "q_eq = optimize.brentq(opt_func, 1.5, 2.0)\n",
    "print q_eq, supply(q_eq), demand(q_eq)\n",
    "# equilibrium quantity, equilibrium price, equilibrium price"
   ]
  },
  {
   "cell_type": "markdown",
   "metadata": {},
   "source": [
    "### optimization problem with 2 unknowns --> taxicab distance"
   ]
  },
  {
   "cell_type": "code",
   "execution_count": 30,
   "metadata": {
    "collapsed": false
   },
   "outputs": [
    {
     "data": {
      "text/plain": [
       "[<matplotlib.lines.Line2D at 0x962cc88>]"
      ]
     },
     "execution_count": 30,
     "metadata": {},
     "output_type": "execute_result"
    },
    {
     "data": {
      "image/png": "[encoded data removed]",
      "text/plain": [
       "<matplotlib.figure.Figure at 0x9452898>"
      ]
     },
     "metadata": {},
     "output_type": "display_data"
    }
   ],
   "source": [
    "points = np.array([[10.3,15.4],[6.5,8.8],[15.6,10.3],[4.7,12.8]])\n",
    "plt.plot(points[:,0],points[:,1], 'o', ms=10, mfc='Blue')"
   ]
  },
  {
   "cell_type": "code",
   "execution_count": 32,
   "metadata": {
    "collapsed": true
   },
   "outputs": [],
   "source": [
    "def make_txmin(points):\n",
    "    def txmin_func(p):\n",
    "        return np.sum(np.abs(points - p))\n",
    "    return txmin_func"
   ]
  },
  {
   "cell_type": "code",
   "execution_count": 33,
   "metadata": {
    "collapsed": true
   },
   "outputs": [],
   "source": [
    "txmin = make_txmin(points)"
   ]
  },
  {
   "cell_type": "code",
   "execution_count": 50,
   "metadata": {
    "collapsed": false
   },
   "outputs": [
    {
     "name": "stdout",
     "output_type": "stream",
     "text": [
      "Optimization terminated successfully.\n",
      "         Current function value: 23.800000\n",
      "         Iterations: 58\n",
      "         Function evaluations: 113\n"
     ]
    }
   ],
   "source": [
    "from scipy import optimize\n",
    "\n",
    "x0 = np.array([0., 0.])\n",
    "# Nelder-Mead method is a heuristic algorithm that does not require smoothness of the objective function\n",
    "res = optimize.minimize(txmin, x0, method='nelder-mead', options={'xtol':1e-5, 'disp':True})"
   ]
  },
  {
   "cell_type": "code",
   "execution_count": 63,
   "metadata": {
    "collapsed": false
   },
   "outputs": [
    {
     "name": "stdout",
     "output_type": "stream",
     "text": [
      "[ 10.3      10.30075]\n",
      "res =>  final_simplex: (array([[ 10.3       ,  10.30075   ],\n",
      "       [ 10.29999591,  10.30074384],\n",
      "       [ 10.29999536,  10.30074487]]), array([ 23.8,  23.8,  23.8]))\n",
      "           fun: 23.799999999999997\n",
      "       message: 'Optimization terminated successfully.'\n",
      "          nfev: 113\n",
      "           nit: 58\n",
      "        status: 0\n",
      "       success: True\n",
      "             x: array([ 10.3    ,  10.30075])\n"
     ]
    }
   ],
   "source": [
    "print res.x\n",
    "print 'res => {}'.format(str(res))"
   ]
  },
  {
   "cell_type": "code",
   "execution_count": 67,
   "metadata": {
    "collapsed": false,
    "scrolled": true
   },
   "outputs": [
    {
     "data": {
      "text/plain": [
       "<matplotlib.text.Text at 0xb33cb70>"
      ]
     },
     "execution_count": 67,
     "metadata": {},
     "output_type": "execute_result"
    },
    {
     "data": {
      "image/png": "[encoded data removed]",
      "text/plain": [
       "<matplotlib.figure.Figure at 0xb2b3470>"
      ]
     },
     "metadata": {},
     "output_type": "display_data"
    }
   ],
   "source": [
    "plt.plot(points[:,0], points[:,1], 'o', ms=12, mfc='LightSkyBlue')\n",
    "plt.plot(res.x[0], res.x[1],'o', ms=12, mfc='LightGreen')\n",
    "locstr = 'x={:5.2f}, y={:5.2f}'.format(res.x[0], res.x[1])\n",
    "plt.title('Optimal facility location: {}'.format(locstr))"
   ]
  },
  {
   "cell_type": "code",
   "execution_count": null,
   "metadata": {
    "collapsed": true
   },
   "outputs": [],
   "source": []
  }
 ],
 "metadata": {
  "kernelspec": {
   "display_name": "Python 2",
   "language": "python",
   "name": "python2"
  },
  "language_info": {
   "codemirror_mode": {
    "name": "ipython",
    "version": 2
   },
   "file_extension": ".py",
   "mimetype": "text/x-python",
   "name": "python",
   "nbconvert_exporter": "python",
   "pygments_lexer": "ipython2",
   "version": "2.7.11"
  }
 },
 "nbformat": 4,
 "nbformat_minor": 0
}
